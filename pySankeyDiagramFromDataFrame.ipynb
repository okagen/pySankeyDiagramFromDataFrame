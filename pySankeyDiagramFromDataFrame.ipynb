{
 "cells": [
  {
   "cell_type": "code",
   "execution_count": 95,
   "metadata": {},
   "outputs": [],
   "source": [
    "import pandas as pd\n",
    "from ipysankeywidget import SankeyWidget\n",
    "from ipywidgets import Layout\n",
    "import numpy as np"
   ]
  },
  {
   "cell_type": "code",
   "execution_count": 96,
   "metadata": {},
   "outputs": [],
   "source": [
    "layout = Layout(width=\"800\", height=\"600\")\n",
    "def sankey(margin_top=10, **value):\n",
    "    return SankeyWidget(layout=layout,\n",
    "                        margins=dict(top=margin_top, bottom=0, left=60, right=150),\n",
    "                        **value)"
   ]
  },
  {
   "cell_type": "code",
   "execution_count": 97,
   "metadata": {},
   "outputs": [
    {
     "data": {
      "text/html": [
       "<div>\n",
       "<style scoped>\n",
       "    .dataframe tbody tr th:only-of-type {\n",
       "        vertical-align: middle;\n",
       "    }\n",
       "\n",
       "    .dataframe tbody tr th {\n",
       "        vertical-align: top;\n",
       "    }\n",
       "\n",
       "    .dataframe thead th {\n",
       "        text-align: right;\n",
       "    }\n",
       "</style>\n",
       "<table border=\"1\" class=\"dataframe\">\n",
       "  <thead>\n",
       "    <tr style=\"text-align: right;\">\n",
       "      <th></th>\n",
       "      <th>source</th>\n",
       "      <th>target</th>\n",
       "      <th>value</th>\n",
       "      <th>type</th>\n",
       "    </tr>\n",
       "  </thead>\n",
       "  <tbody>\n",
       "    <tr>\n",
       "      <th>0</th>\n",
       "      <td>sR_1</td>\n",
       "      <td>R_0</td>\n",
       "      <td>23.0</td>\n",
       "      <td>a</td>\n",
       "    </tr>\n",
       "    <tr>\n",
       "      <th>1</th>\n",
       "      <td>sR_1</td>\n",
       "      <td>R_1</td>\n",
       "      <td>70734.0</td>\n",
       "      <td>a</td>\n",
       "    </tr>\n",
       "    <tr>\n",
       "      <th>2</th>\n",
       "      <td>sR_1</td>\n",
       "      <td>R_2</td>\n",
       "      <td>10362.0</td>\n",
       "      <td>a</td>\n",
       "    </tr>\n",
       "    <tr>\n",
       "      <th>3</th>\n",
       "      <td>sR_1</td>\n",
       "      <td>R_3</td>\n",
       "      <td>2816.0</td>\n",
       "      <td>a</td>\n",
       "    </tr>\n",
       "    <tr>\n",
       "      <th>4</th>\n",
       "      <td>sR_1</td>\n",
       "      <td>R_4</td>\n",
       "      <td>3572.0</td>\n",
       "      <td>a</td>\n",
       "    </tr>\n",
       "    <tr>\n",
       "      <th>5</th>\n",
       "      <td>sR_1</td>\n",
       "      <td>R_5</td>\n",
       "      <td>756.0</td>\n",
       "      <td>a</td>\n",
       "    </tr>\n",
       "    <tr>\n",
       "      <th>6</th>\n",
       "      <td>sR_1</td>\n",
       "      <td>R_6</td>\n",
       "      <td>909.0</td>\n",
       "      <td>a</td>\n",
       "    </tr>\n",
       "    <tr>\n",
       "      <th>7</th>\n",
       "      <td>sR_1</td>\n",
       "      <td>R_7</td>\n",
       "      <td>371.0</td>\n",
       "      <td>a</td>\n",
       "    </tr>\n",
       "    <tr>\n",
       "      <th>8</th>\n",
       "      <td>sR_1</td>\n",
       "      <td>R_88</td>\n",
       "      <td>11.0</td>\n",
       "      <td>a</td>\n",
       "    </tr>\n",
       "  </tbody>\n",
       "</table>\n",
       "</div>"
      ],
      "text/plain": [
       "  source target    value type\n",
       "0   sR_1    R_0     23.0    a\n",
       "1   sR_1    R_1  70734.0    a\n",
       "2   sR_1    R_2  10362.0    a\n",
       "3   sR_1    R_3   2816.0    a\n",
       "4   sR_1    R_4   3572.0    a\n",
       "5   sR_1    R_5    756.0    a\n",
       "6   sR_1    R_6    909.0    a\n",
       "7   sR_1    R_7    371.0    a\n",
       "8   sR_1   R_88     11.0    a"
      ]
     },
     "metadata": {},
     "output_type": "display_data"
    },
    {
     "data": {
      "text/html": [
       "<div>\n",
       "<style scoped>\n",
       "    .dataframe tbody tr th:only-of-type {\n",
       "        vertical-align: middle;\n",
       "    }\n",
       "\n",
       "    .dataframe tbody tr th {\n",
       "        vertical-align: top;\n",
       "    }\n",
       "\n",
       "    .dataframe thead th {\n",
       "        text-align: right;\n",
       "    }\n",
       "</style>\n",
       "<table border=\"1\" class=\"dataframe\">\n",
       "  <thead>\n",
       "    <tr style=\"text-align: right;\">\n",
       "      <th></th>\n",
       "      <th>source</th>\n",
       "      <th>target</th>\n",
       "      <th>value</th>\n",
       "      <th>type</th>\n",
       "    </tr>\n",
       "  </thead>\n",
       "  <tbody>\n",
       "    <tr>\n",
       "      <th>0</th>\n",
       "      <td>sR_1</td>\n",
       "      <td>R_0</td>\n",
       "      <td>23</td>\n",
       "      <td>a</td>\n",
       "    </tr>\n",
       "    <tr>\n",
       "      <th>1</th>\n",
       "      <td>sR_1</td>\n",
       "      <td>R_1</td>\n",
       "      <td>70734</td>\n",
       "      <td>a</td>\n",
       "    </tr>\n",
       "    <tr>\n",
       "      <th>2</th>\n",
       "      <td>sR_1</td>\n",
       "      <td>R_2</td>\n",
       "      <td>10362</td>\n",
       "      <td>a</td>\n",
       "    </tr>\n",
       "    <tr>\n",
       "      <th>3</th>\n",
       "      <td>sR_1</td>\n",
       "      <td>R_3</td>\n",
       "      <td>2816</td>\n",
       "      <td>a</td>\n",
       "    </tr>\n",
       "    <tr>\n",
       "      <th>4</th>\n",
       "      <td>sR_1</td>\n",
       "      <td>R_4</td>\n",
       "      <td>3572</td>\n",
       "      <td>a</td>\n",
       "    </tr>\n",
       "    <tr>\n",
       "      <th>5</th>\n",
       "      <td>sR_1</td>\n",
       "      <td>R_5</td>\n",
       "      <td>756</td>\n",
       "      <td>a</td>\n",
       "    </tr>\n",
       "    <tr>\n",
       "      <th>6</th>\n",
       "      <td>sR_1</td>\n",
       "      <td>R_6</td>\n",
       "      <td>909</td>\n",
       "      <td>a</td>\n",
       "    </tr>\n",
       "    <tr>\n",
       "      <th>7</th>\n",
       "      <td>sR_1</td>\n",
       "      <td>R_7</td>\n",
       "      <td>371</td>\n",
       "      <td>a</td>\n",
       "    </tr>\n",
       "    <tr>\n",
       "      <th>8</th>\n",
       "      <td>sR_1</td>\n",
       "      <td>R_88</td>\n",
       "      <td>11</td>\n",
       "      <td>a</td>\n",
       "    </tr>\n",
       "  </tbody>\n",
       "</table>\n",
       "</div>"
      ],
      "text/plain": [
       "  source target  value type\n",
       "0   sR_1    R_0     23    a\n",
       "1   sR_1    R_1  70734    a\n",
       "2   sR_1    R_2  10362    a\n",
       "3   sR_1    R_3   2816    a\n",
       "4   sR_1    R_4   3572    a\n",
       "5   sR_1    R_5    756    a\n",
       "6   sR_1    R_6    909    a\n",
       "7   sR_1    R_7    371    a\n",
       "8   sR_1   R_88     11    a"
      ]
     },
     "metadata": {},
     "output_type": "display_data"
    }
   ],
   "source": [
    "df = pd.DataFrame()\n",
    "df = pd.read_csv(r'.\\Data\\C1.csv')\n",
    "display(df.head(9))\n",
    "df['value'] = df['value'].fillna(0).round().astype(int)\n",
    "display(df.head(9))"
   ]
  },
  {
   "cell_type": "code",
   "execution_count": 98,
   "metadata": {},
   "outputs": [
    {
     "data": {
      "text/plain": [
       "[{'source': 'sR_1', 'target': 'R_0', 'value': 23, 'type': 'a'},\n",
       " {'source': 'sR_1', 'target': 'R_1', 'value': 70734, 'type': 'a'},\n",
       " {'source': 'sR_1', 'target': 'R_2', 'value': 10362, 'type': 'a'},\n",
       " {'source': 'sR_1', 'target': 'R_3', 'value': 2816, 'type': 'a'},\n",
       " {'source': 'sR_1', 'target': 'R_4', 'value': 3572, 'type': 'a'},\n",
       " {'source': 'sR_1', 'target': 'R_5', 'value': 756, 'type': 'a'},\n",
       " {'source': 'sR_1', 'target': 'R_6', 'value': 909, 'type': 'a'},\n",
       " {'source': 'sR_1', 'target': 'R_7', 'value': 371, 'type': 'a'},\n",
       " {'source': 'sR_1', 'target': 'R_88', 'value': 11, 'type': 'a'}]"
      ]
     },
     "metadata": {},
     "output_type": "display_data"
    }
   ],
   "source": [
    "links = []\n",
    "for index, row in df.iterrows():\n",
    "    link = dict(zip(df.columns, row))\n",
    "    links.append(link)\n",
    "\n",
    "display(links[0:9])\n"
   ]
  },
  {
   "cell_type": "code",
   "execution_count": 99,
   "metadata": {},
   "outputs": [
    {
     "data": {
      "application/vnd.jupyter.widget-view+json": {
       "model_id": "c156b4fafa6f41b58051c8597699e1cb",
       "version_major": 2,
       "version_minor": 0
      },
      "text/plain": [
       "SankeyWidget(layout=Layout(height='600', width='800'), links=[{'source': 'sR_1', 'target': 'R_0', 'value': 23,…"
      ]
     },
     "metadata": {},
     "output_type": "display_data"
    }
   ],
   "source": [
    "sankey(links=links)"
   ]
  },
  {
   "cell_type": "code",
   "execution_count": 100,
   "metadata": {},
   "outputs": [
    {
     "data": {
      "text/html": [
       "<div>\n",
       "<style scoped>\n",
       "    .dataframe tbody tr th:only-of-type {\n",
       "        vertical-align: middle;\n",
       "    }\n",
       "\n",
       "    .dataframe tbody tr th {\n",
       "        vertical-align: top;\n",
       "    }\n",
       "\n",
       "    .dataframe thead th {\n",
       "        text-align: right;\n",
       "    }\n",
       "</style>\n",
       "<table border=\"1\" class=\"dataframe\">\n",
       "  <thead>\n",
       "    <tr style=\"text-align: right;\">\n",
       "      <th></th>\n",
       "      <th>id</th>\n",
       "      <th>title</th>\n",
       "    </tr>\n",
       "  </thead>\n",
       "  <tbody>\n",
       "    <tr>\n",
       "      <th>0</th>\n",
       "      <td>R_1</td>\n",
       "      <td>sR_1 &gt; R_1 (78.9%)</td>\n",
       "    </tr>\n",
       "    <tr>\n",
       "      <th>1</th>\n",
       "      <td>R_2</td>\n",
       "      <td>sR_2 &gt; R_2 (93%)</td>\n",
       "    </tr>\n",
       "    <tr>\n",
       "      <th>2</th>\n",
       "      <td>R_3</td>\n",
       "      <td>sR_3 &gt; R_3 (68.7%)</td>\n",
       "    </tr>\n",
       "    <tr>\n",
       "      <th>3</th>\n",
       "      <td>R_4</td>\n",
       "      <td>sR_4 &gt; R_4 (79.9%)</td>\n",
       "    </tr>\n",
       "    <tr>\n",
       "      <th>4</th>\n",
       "      <td>R_5</td>\n",
       "      <td>sR_5 &gt; R_5 (85.7%)</td>\n",
       "    </tr>\n",
       "    <tr>\n",
       "      <th>5</th>\n",
       "      <td>R_6</td>\n",
       "      <td>sR_6 &gt; R_6 (78%)</td>\n",
       "    </tr>\n",
       "    <tr>\n",
       "      <th>6</th>\n",
       "      <td>R_7</td>\n",
       "      <td>sR_7 &gt; R_7 (82.6%)</td>\n",
       "    </tr>\n",
       "    <tr>\n",
       "      <th>7</th>\n",
       "      <td>R_99</td>\n",
       "      <td>sR_99 &gt; R_99 (55.7%)</td>\n",
       "    </tr>\n",
       "    <tr>\n",
       "      <th>8</th>\n",
       "      <td>R_88</td>\n",
       "      <td>sR_88 &gt; R_88 (100%)</td>\n",
       "    </tr>\n",
       "    <tr>\n",
       "      <th>9</th>\n",
       "      <td>R_0</td>\n",
       "      <td>sR_0 &gt; R_0 (99.8%)</td>\n",
       "    </tr>\n",
       "  </tbody>\n",
       "</table>\n",
       "</div>"
      ],
      "text/plain": [
       "     id                 title\n",
       "0   R_1    sR_1 > R_1 (78.9%)\n",
       "1   R_2      sR_2 > R_2 (93%)\n",
       "2   R_3    sR_3 > R_3 (68.7%)\n",
       "3   R_4    sR_4 > R_4 (79.9%)\n",
       "4   R_5    sR_5 > R_5 (85.7%)\n",
       "5   R_6      sR_6 > R_6 (78%)\n",
       "6   R_7    sR_7 > R_7 (82.6%)\n",
       "7  R_99  sR_99 > R_99 (55.7%)\n",
       "8  R_88   sR_88 > R_88 (100%)\n",
       "9   R_0    sR_0 > R_0 (99.8%)"
      ]
     },
     "metadata": {},
     "output_type": "display_data"
    }
   ],
   "source": [
    "df2 = pd.DataFrame()\n",
    "df2 = pd.read_csv(r'.\\Data\\C1_rate.csv')\n",
    "display(df2)"
   ]
  },
  {
   "cell_type": "code",
   "execution_count": 101,
   "metadata": {},
   "outputs": [
    {
     "data": {
      "text/plain": [
       "[{'id': 'R_1', 'title': 'sR_1 > R_1 (78.9%)'},\n",
       " {'id': 'R_2', 'title': 'sR_2 > R_2 (93%)'},\n",
       " {'id': 'R_3', 'title': 'sR_3 > R_3 (68.7%)'},\n",
       " {'id': 'R_4', 'title': 'sR_4 > R_4 (79.9%)'},\n",
       " {'id': 'R_5', 'title': 'sR_5 > R_5 (85.7%)'},\n",
       " {'id': 'R_6', 'title': 'sR_6 > R_6 (78%)'},\n",
       " {'id': 'R_7', 'title': 'sR_7 > R_7 (82.6%)'},\n",
       " {'id': 'R_99', 'title': 'sR_99 > R_99 (55.7%)'},\n",
       " {'id': 'R_88', 'title': 'sR_88 > R_88 (100%)'},\n",
       " {'id': 'R_0', 'title': 'sR_0 > R_0 (99.8%)'}]"
      ]
     },
     "metadata": {},
     "output_type": "display_data"
    }
   ],
   "source": [
    "nodes = []\n",
    "for index, row in df2.iterrows():\n",
    "    node = dict(zip(df2.columns, row))\n",
    "    nodes.append(node)\n",
    "\n",
    "display(nodes)"
   ]
  },
  {
   "cell_type": "code",
   "execution_count": 102,
   "metadata": {},
   "outputs": [
    {
     "data": {
      "application/vnd.jupyter.widget-view+json": {
       "model_id": "598e1cce18d645b99c4298e53f969c1b",
       "version_major": 2,
       "version_minor": 0
      },
      "text/plain": [
       "SankeyWidget(layout=Layout(height='600', width='800'), links=[{'source': 'sR_1', 'target': 'R_0', 'value': 23,…"
      ]
     },
     "metadata": {},
     "output_type": "display_data"
    }
   ],
   "source": [
    "sankey(links=links, nodes=nodes)"
   ]
  },
  {
   "cell_type": "code",
   "execution_count": 104,
   "metadata": {
    "scrolled": false
   },
   "outputs": [
    {
     "data": {
      "application/vnd.jupyter.widget-view+json": {
       "model_id": "ed5e1f4c8e5e41de917a14a18eb3f1bb",
       "version_major": 2,
       "version_minor": 0
      },
      "text/plain": [
       "SankeyWidget(groups=[{'id': 'G1', 'title': '1st rating by AI', 'nodes': ['sR_0', 'sR_1', 'sR_2', 'sR_3', 'sR_4…"
      ]
     },
     "metadata": {},
     "output_type": "display_data"
    }
   ],
   "source": [
    "groups = [\n",
    "    {'id': 'G1', 'title': '1st rating by AI', 'nodes': ['sR_0', 'sR_1', 'sR_2', 'sR_3', 'sR_4', 'sR_5', 'sR_6', 'sR_7', 'sR_88', 'sR_99']},\n",
    "    {'id': 'G2', 'title': 'Result', 'nodes': ['R_0', 'R_1', 'R_2', 'R_3', 'R_4', 'R_5', 'R_6', 'R_7', 'R_88', 'R_99']},\n",
    "]\n",
    "sankey(links=links, nodes=nodes, groups=groups, margin_top=30)"
   ]
  },
  {
   "cell_type": "code",
   "execution_count": null,
   "metadata": {},
   "outputs": [],
   "source": []
  },
  {
   "cell_type": "code",
   "execution_count": null,
   "metadata": {},
   "outputs": [],
   "source": []
  }
 ],
 "metadata": {
  "kernelspec": {
   "display_name": "Python 3",
   "language": "python",
   "name": "python3"
  },
  "language_info": {
   "codemirror_mode": {
    "name": "ipython",
    "version": 3
   },
   "file_extension": ".py",
   "mimetype": "text/x-python",
   "name": "python",
   "nbconvert_exporter": "python",
   "pygments_lexer": "ipython3",
   "version": "3.7.3"
  }
 },
 "nbformat": 4,
 "nbformat_minor": 2
}
