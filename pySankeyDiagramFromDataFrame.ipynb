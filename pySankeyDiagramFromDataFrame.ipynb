{
 "cells": [
  {
   "cell_type": "code",
   "execution_count": 51,
   "metadata": {},
   "outputs": [],
   "source": [
    "import pandas as pd\n",
    "from ipysankeywidget import SankeyWidget\n",
    "from ipywidgets import Layout\n",
    "import numpy as np"
   ]
  },
  {
   "cell_type": "code",
   "execution_count": 60,
   "metadata": {},
   "outputs": [],
   "source": [
    "layout = Layout(width=\"800\", height=\"600\")\n",
    "def sankey(margin_top=10, **value):\n",
    "    return SankeyWidget(layout=layout,\n",
    "                        margins=dict(top=margin_top, bottom=0, left=60, right=60),\n",
    "                        **value)"
   ]
  },
  {
   "cell_type": "code",
   "execution_count": 61,
   "metadata": {},
   "outputs": [
    {
     "data": {
      "text/html": [
       "<div>\n",
       "<style scoped>\n",
       "    .dataframe tbody tr th:only-of-type {\n",
       "        vertical-align: middle;\n",
       "    }\n",
       "\n",
       "    .dataframe tbody tr th {\n",
       "        vertical-align: top;\n",
       "    }\n",
       "\n",
       "    .dataframe thead th {\n",
       "        text-align: right;\n",
       "    }\n",
       "</style>\n",
       "<table border=\"1\" class=\"dataframe\">\n",
       "  <thead>\n",
       "    <tr style=\"text-align: right;\">\n",
       "      <th></th>\n",
       "      <th>source</th>\n",
       "      <th>target</th>\n",
       "      <th>value</th>\n",
       "    </tr>\n",
       "  </thead>\n",
       "  <tbody>\n",
       "    <tr>\n",
       "      <th>0</th>\n",
       "      <td>sR 1</td>\n",
       "      <td>R 0</td>\n",
       "      <td>123.0</td>\n",
       "    </tr>\n",
       "    <tr>\n",
       "      <th>1</th>\n",
       "      <td>sR 1</td>\n",
       "      <td>R 1</td>\n",
       "      <td>277002.0</td>\n",
       "    </tr>\n",
       "    <tr>\n",
       "      <th>2</th>\n",
       "      <td>sR 1</td>\n",
       "      <td>R 2</td>\n",
       "      <td>2564.0</td>\n",
       "    </tr>\n",
       "    <tr>\n",
       "      <th>3</th>\n",
       "      <td>sR 1</td>\n",
       "      <td>R 3</td>\n",
       "      <td>27414.0</td>\n",
       "    </tr>\n",
       "    <tr>\n",
       "      <th>4</th>\n",
       "      <td>sR 1</td>\n",
       "      <td>R 4</td>\n",
       "      <td>6589.0</td>\n",
       "    </tr>\n",
       "    <tr>\n",
       "      <th>5</th>\n",
       "      <td>sR 1</td>\n",
       "      <td>R 5</td>\n",
       "      <td>719.0</td>\n",
       "    </tr>\n",
       "    <tr>\n",
       "      <th>6</th>\n",
       "      <td>sR 1</td>\n",
       "      <td>R 6</td>\n",
       "      <td>3167.0</td>\n",
       "    </tr>\n",
       "    <tr>\n",
       "      <th>7</th>\n",
       "      <td>sR 1</td>\n",
       "      <td>R 88</td>\n",
       "      <td>17.0</td>\n",
       "    </tr>\n",
       "    <tr>\n",
       "      <th>8</th>\n",
       "      <td>sR 1</td>\n",
       "      <td>R 99</td>\n",
       "      <td>569.0</td>\n",
       "    </tr>\n",
       "  </tbody>\n",
       "</table>\n",
       "</div>"
      ],
      "text/plain": [
       "  source target     value\n",
       "0   sR 1    R 0     123.0\n",
       "1   sR 1    R 1  277002.0\n",
       "2   sR 1    R 2    2564.0\n",
       "3   sR 1    R 3   27414.0\n",
       "4   sR 1    R 4    6589.0\n",
       "5   sR 1    R 5     719.0\n",
       "6   sR 1    R 6    3167.0\n",
       "7   sR 1   R 88      17.0\n",
       "8   sR 1   R 99     569.0"
      ]
     },
     "metadata": {},
     "output_type": "display_data"
    },
    {
     "data": {
      "text/html": [
       "<div>\n",
       "<style scoped>\n",
       "    .dataframe tbody tr th:only-of-type {\n",
       "        vertical-align: middle;\n",
       "    }\n",
       "\n",
       "    .dataframe tbody tr th {\n",
       "        vertical-align: top;\n",
       "    }\n",
       "\n",
       "    .dataframe thead th {\n",
       "        text-align: right;\n",
       "    }\n",
       "</style>\n",
       "<table border=\"1\" class=\"dataframe\">\n",
       "  <thead>\n",
       "    <tr style=\"text-align: right;\">\n",
       "      <th></th>\n",
       "      <th>source</th>\n",
       "      <th>target</th>\n",
       "      <th>value</th>\n",
       "    </tr>\n",
       "  </thead>\n",
       "  <tbody>\n",
       "    <tr>\n",
       "      <th>0</th>\n",
       "      <td>sR 1</td>\n",
       "      <td>R 0</td>\n",
       "      <td>123</td>\n",
       "    </tr>\n",
       "    <tr>\n",
       "      <th>1</th>\n",
       "      <td>sR 1</td>\n",
       "      <td>R 1</td>\n",
       "      <td>277002</td>\n",
       "    </tr>\n",
       "    <tr>\n",
       "      <th>2</th>\n",
       "      <td>sR 1</td>\n",
       "      <td>R 2</td>\n",
       "      <td>2564</td>\n",
       "    </tr>\n",
       "    <tr>\n",
       "      <th>3</th>\n",
       "      <td>sR 1</td>\n",
       "      <td>R 3</td>\n",
       "      <td>27414</td>\n",
       "    </tr>\n",
       "    <tr>\n",
       "      <th>4</th>\n",
       "      <td>sR 1</td>\n",
       "      <td>R 4</td>\n",
       "      <td>6589</td>\n",
       "    </tr>\n",
       "    <tr>\n",
       "      <th>5</th>\n",
       "      <td>sR 1</td>\n",
       "      <td>R 5</td>\n",
       "      <td>719</td>\n",
       "    </tr>\n",
       "    <tr>\n",
       "      <th>6</th>\n",
       "      <td>sR 1</td>\n",
       "      <td>R 6</td>\n",
       "      <td>3167</td>\n",
       "    </tr>\n",
       "    <tr>\n",
       "      <th>7</th>\n",
       "      <td>sR 1</td>\n",
       "      <td>R 88</td>\n",
       "      <td>17</td>\n",
       "    </tr>\n",
       "    <tr>\n",
       "      <th>8</th>\n",
       "      <td>sR 1</td>\n",
       "      <td>R 99</td>\n",
       "      <td>569</td>\n",
       "    </tr>\n",
       "  </tbody>\n",
       "</table>\n",
       "</div>"
      ],
      "text/plain": [
       "  source target   value\n",
       "0   sR 1    R 0     123\n",
       "1   sR 1    R 1  277002\n",
       "2   sR 1    R 2    2564\n",
       "3   sR 1    R 3   27414\n",
       "4   sR 1    R 4    6589\n",
       "5   sR 1    R 5     719\n",
       "6   sR 1    R 6    3167\n",
       "7   sR 1   R 88      17\n",
       "8   sR 1   R 99     569"
      ]
     },
     "metadata": {},
     "output_type": "display_data"
    }
   ],
   "source": [
    "df = pd.DataFrame()\n",
    "df = pd.read_csv(r'.\\Data\\C2.csv')\n",
    "display(df.head(9))\n",
    "df['value'] = df['value'].fillna(0).round().astype(int)\n",
    "display(df.head(9))"
   ]
  },
  {
   "cell_type": "code",
   "execution_count": 62,
   "metadata": {},
   "outputs": [
    {
     "data": {
      "text/plain": [
       "[{'source': 'sR 1', 'target': 'R 0', 'value': 123},\n",
       " {'source': 'sR 1', 'target': 'R 1', 'value': 277002},\n",
       " {'source': 'sR 1', 'target': 'R 2', 'value': 2564},\n",
       " {'source': 'sR 1', 'target': 'R 3', 'value': 27414},\n",
       " {'source': 'sR 1', 'target': 'R 4', 'value': 6589},\n",
       " {'source': 'sR 1', 'target': 'R 5', 'value': 719},\n",
       " {'source': 'sR 1', 'target': 'R 6', 'value': 3167},\n",
       " {'source': 'sR 1', 'target': 'R 88', 'value': 17},\n",
       " {'source': 'sR 1', 'target': 'R 99', 'value': 569}]"
      ]
     },
     "metadata": {},
     "output_type": "display_data"
    }
   ],
   "source": [
    "links = []\n",
    "for index, row in df.iterrows():\n",
    "    link = dict(zip(df.columns, row))\n",
    "    links.append(link)\n",
    "\n",
    "display(links[0:9])\n"
   ]
  },
  {
   "cell_type": "code",
   "execution_count": 64,
   "metadata": {},
   "outputs": [
    {
     "data": {
      "application/vnd.jupyter.widget-view+json": {
       "model_id": "a0187b77fdd4405fbdf68af6bf6460f5",
       "version_major": 2,
       "version_minor": 0
      },
      "text/plain": [
       "SankeyWidget(layout=Layout(height='600', width='800'), links=[{'source': 'sR 1', 'target': 'R 0', 'value': 123…"
      ]
     },
     "metadata": {},
     "output_type": "display_data"
    }
   ],
   "source": [
    "sankey(links=links)"
   ]
  },
  {
   "cell_type": "code",
   "execution_count": null,
   "metadata": {},
   "outputs": [],
   "source": []
  }
 ],
 "metadata": {
  "kernelspec": {
   "display_name": "Python 3",
   "language": "python",
   "name": "python3"
  },
  "language_info": {
   "codemirror_mode": {
    "name": "ipython",
    "version": 3
   },
   "file_extension": ".py",
   "mimetype": "text/x-python",
   "name": "python",
   "nbconvert_exporter": "python",
   "pygments_lexer": "ipython3",
   "version": "3.7.3"
  }
 },
 "nbformat": 4,
 "nbformat_minor": 2
}
