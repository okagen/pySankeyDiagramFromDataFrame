{
 "cells": [
  {
   "cell_type": "markdown",
   "metadata": {},
   "source": [
    "# Create a Sankey diagram by using DataFrame."
   ]
  },
  {
   "cell_type": "code",
   "execution_count": 1,
   "metadata": {},
   "outputs": [],
   "source": [
    "import pandas as pd\n",
    "from ipysankeywidget import SankeyWidget\n",
    "from ipywidgets import Layout\n",
    "import numpy as np"
   ]
  },
  {
   "cell_type": "code",
   "execution_count": 22,
   "metadata": {},
   "outputs": [],
   "source": [
    "dirData = \"Data\\\\\"\n",
    "inputCSV = \"C5.csv\"\n",
    "inputRateCSV = \"C5_rate.csv\"\n",
    "outputSVG = \"svg_C5.svg\"\n",
    "outputPDF = \"pdf_C5.pdf\"\n",
    "outputPNG = \"png_C5.png\""
   ]
  },
  {
   "cell_type": "markdown",
   "metadata": {},
   "source": [
    "## Define propotion of the Sankey diagram."
   ]
  },
  {
   "cell_type": "code",
   "execution_count": 3,
   "metadata": {},
   "outputs": [],
   "source": [
    "layout = Layout(width=\"800\", height=\"600\")\n",
    "def sankey(margin_top=10, **value):\n",
    "    return SankeyWidget(layout=layout,\n",
    "                        margins=dict(top=margin_top, bottom=0, left=60, right=270),\n",
    "                        **value)"
   ]
  },
  {
   "cell_type": "markdown",
   "metadata": {},
   "source": [
    "## Import csv file into the DataFrame to create links on the Sankey diagram.\n",
    "  1. The header must include \"source\", \"target\", \"value\" and \"type\".\n",
    "  1. Define the headers by lower case leters in the DataFrame."
   ]
  },
  {
   "cell_type": "code",
   "execution_count": 13,
   "metadata": {},
   "outputs": [
    {
     "data": {
      "text/html": [
       "<div>\n",
       "<style scoped>\n",
       "    .dataframe tbody tr th:only-of-type {\n",
       "        vertical-align: middle;\n",
       "    }\n",
       "\n",
       "    .dataframe tbody tr th {\n",
       "        vertical-align: top;\n",
       "    }\n",
       "\n",
       "    .dataframe thead th {\n",
       "        text-align: right;\n",
       "    }\n",
       "</style>\n",
       "<table border=\"1\" class=\"dataframe\">\n",
       "  <thead>\n",
       "    <tr style=\"text-align: right;\">\n",
       "      <th></th>\n",
       "      <th>source</th>\n",
       "      <th>target</th>\n",
       "      <th>value</th>\n",
       "      <th>type</th>\n",
       "    </tr>\n",
       "  </thead>\n",
       "  <tbody>\n",
       "    <tr>\n",
       "      <th>0</th>\n",
       "      <td>sR_1</td>\n",
       "      <td>R_0</td>\n",
       "      <td>4432</td>\n",
       "      <td>a</td>\n",
       "    </tr>\n",
       "    <tr>\n",
       "      <th>1</th>\n",
       "      <td>sR_1</td>\n",
       "      <td>R_1</td>\n",
       "      <td>139011</td>\n",
       "      <td>a</td>\n",
       "    </tr>\n",
       "    <tr>\n",
       "      <th>2</th>\n",
       "      <td>sR_1</td>\n",
       "      <td>R_2</td>\n",
       "      <td>12842</td>\n",
       "      <td>a</td>\n",
       "    </tr>\n",
       "    <tr>\n",
       "      <th>3</th>\n",
       "      <td>sR_1</td>\n",
       "      <td>R_3</td>\n",
       "      <td>795</td>\n",
       "      <td>a</td>\n",
       "    </tr>\n",
       "    <tr>\n",
       "      <th>4</th>\n",
       "      <td>sR_1</td>\n",
       "      <td>R_4</td>\n",
       "      <td>32381</td>\n",
       "      <td>a</td>\n",
       "    </tr>\n",
       "    <tr>\n",
       "      <th>5</th>\n",
       "      <td>sR_1</td>\n",
       "      <td>R_5</td>\n",
       "      <td>40641</td>\n",
       "      <td>a</td>\n",
       "    </tr>\n",
       "    <tr>\n",
       "      <th>6</th>\n",
       "      <td>sR_1</td>\n",
       "      <td>R_6</td>\n",
       "      <td>60791</td>\n",
       "      <td>a</td>\n",
       "    </tr>\n",
       "    <tr>\n",
       "      <th>7</th>\n",
       "      <td>sR_1</td>\n",
       "      <td>R_88</td>\n",
       "      <td>315</td>\n",
       "      <td>a</td>\n",
       "    </tr>\n",
       "    <tr>\n",
       "      <th>8</th>\n",
       "      <td>sR_1</td>\n",
       "      <td>R_99</td>\n",
       "      <td>2627</td>\n",
       "      <td>a</td>\n",
       "    </tr>\n",
       "  </tbody>\n",
       "</table>\n",
       "</div>"
      ],
      "text/plain": [
       "  source target   value type\n",
       "0   sR_1    R_0    4432    a\n",
       "1   sR_1    R_1  139011    a\n",
       "2   sR_1    R_2   12842    a\n",
       "3   sR_1    R_3     795    a\n",
       "4   sR_1    R_4   32381    a\n",
       "5   sR_1    R_5   40641    a\n",
       "6   sR_1    R_6   60791    a\n",
       "7   sR_1   R_88     315    a\n",
       "8   sR_1   R_99    2627    a"
      ]
     },
     "metadata": {},
     "output_type": "display_data"
    }
   ],
   "source": [
    "df = pd.DataFrame()\n",
    "df = pd.read_csv(dirData + inputCSV)\n",
    "df['value'] = df['value'].fillna(0).round().astype(int)\n",
    "display(df.head(9))"
   ]
  },
  {
   "cell_type": "markdown",
   "metadata": {},
   "source": [
    "## Create links.\n",
    "Create the links data by conbining the header and record."
   ]
  },
  {
   "cell_type": "code",
   "execution_count": 14,
   "metadata": {},
   "outputs": [
    {
     "data": {
      "text/plain": [
       "[{'source': 'sR_1', 'target': 'R_0', 'value': 4432, 'type': 'a'},\n",
       " {'source': 'sR_1', 'target': 'R_1', 'value': 139011, 'type': 'a'},\n",
       " {'source': 'sR_1', 'target': 'R_2', 'value': 12842, 'type': 'a'},\n",
       " {'source': 'sR_1', 'target': 'R_3', 'value': 795, 'type': 'a'},\n",
       " {'source': 'sR_1', 'target': 'R_4', 'value': 32381, 'type': 'a'},\n",
       " {'source': 'sR_1', 'target': 'R_5', 'value': 40641, 'type': 'a'},\n",
       " {'source': 'sR_1', 'target': 'R_6', 'value': 60791, 'type': 'a'},\n",
       " {'source': 'sR_1', 'target': 'R_88', 'value': 315, 'type': 'a'},\n",
       " {'source': 'sR_1', 'target': 'R_99', 'value': 2627, 'type': 'a'}]"
      ]
     },
     "metadata": {},
     "output_type": "display_data"
    },
    {
     "data": {
      "application/vnd.jupyter.widget-view+json": {
       "model_id": "0d32e285313a42588e0a54a2f695d5c8",
       "version_major": 2,
       "version_minor": 0
      },
      "text/plain": [
       "SankeyWidget(layout=Layout(height='600', width='800'), links=[{'source': 'sR_1', 'target': 'R_0', 'value': 443…"
      ]
     },
     "metadata": {},
     "output_type": "display_data"
    }
   ],
   "source": [
    "links = []\n",
    "for index, row in df.iterrows():\n",
    "    link = dict(zip(df.columns, row))\n",
    "    links.append(link)\n",
    "\n",
    "display(links[0:9])\n",
    "sankey(links=links)"
   ]
  },
  {
   "cell_type": "markdown",
   "metadata": {},
   "source": [
    "## Import csv file into the DataFrame to create nodes on the Sankey diagram.\n",
    "I would like to show percentage of remained items from the upstream to the downstream of each flow on the diagram."
   ]
  },
  {
   "cell_type": "code",
   "execution_count": 7,
   "metadata": {},
   "outputs": [
    {
     "data": {
      "text/html": [
       "<div>\n",
       "<style scoped>\n",
       "    .dataframe tbody tr th:only-of-type {\n",
       "        vertical-align: middle;\n",
       "    }\n",
       "\n",
       "    .dataframe tbody tr th {\n",
       "        vertical-align: top;\n",
       "    }\n",
       "\n",
       "    .dataframe thead th {\n",
       "        text-align: right;\n",
       "    }\n",
       "</style>\n",
       "<table border=\"1\" class=\"dataframe\">\n",
       "  <thead>\n",
       "    <tr style=\"text-align: right;\">\n",
       "      <th></th>\n",
       "      <th>id</th>\n",
       "      <th>title</th>\n",
       "    </tr>\n",
       "  </thead>\n",
       "  <tbody>\n",
       "    <tr>\n",
       "      <th>0</th>\n",
       "      <td>R_1</td>\n",
       "      <td>R_1 : sR_1 to R_1 (47.31%)</td>\n",
       "    </tr>\n",
       "    <tr>\n",
       "      <th>1</th>\n",
       "      <td>R_2</td>\n",
       "      <td>R_2 : sR_2 to R_2 (81.63%)</td>\n",
       "    </tr>\n",
       "    <tr>\n",
       "      <th>2</th>\n",
       "      <td>R_3</td>\n",
       "      <td>R_3 : sR_3 to R_3 (2.55%)</td>\n",
       "    </tr>\n",
       "    <tr>\n",
       "      <th>3</th>\n",
       "      <td>R_4</td>\n",
       "      <td>R_4 : sR_4 to R_4 (18.46%)</td>\n",
       "    </tr>\n",
       "    <tr>\n",
       "      <th>4</th>\n",
       "      <td>R_5</td>\n",
       "      <td>R_5 : sR_5 to R_5 (33.14%)</td>\n",
       "    </tr>\n",
       "    <tr>\n",
       "      <th>5</th>\n",
       "      <td>R_6</td>\n",
       "      <td>R_6 : sR_6 to R_6 (32.24%)</td>\n",
       "    </tr>\n",
       "    <tr>\n",
       "      <th>6</th>\n",
       "      <td>R_99</td>\n",
       "      <td>R_99 : sR_99 to R_99 (22.07%)</td>\n",
       "    </tr>\n",
       "    <tr>\n",
       "      <th>7</th>\n",
       "      <td>R_88</td>\n",
       "      <td>R_88 : sR_88 to R_88 (99.71%)</td>\n",
       "    </tr>\n",
       "    <tr>\n",
       "      <th>8</th>\n",
       "      <td>R_0</td>\n",
       "      <td>R_0 : sR_0 to R_0 (99.96%)</td>\n",
       "    </tr>\n",
       "  </tbody>\n",
       "</table>\n",
       "</div>"
      ],
      "text/plain": [
       "     id                          title\n",
       "0   R_1     R_1 : sR_1 to R_1 (47.31%)\n",
       "1   R_2     R_2 : sR_2 to R_2 (81.63%)\n",
       "2   R_3      R_3 : sR_3 to R_3 (2.55%)\n",
       "3   R_4     R_4 : sR_4 to R_4 (18.46%)\n",
       "4   R_5     R_5 : sR_5 to R_5 (33.14%)\n",
       "5   R_6     R_6 : sR_6 to R_6 (32.24%)\n",
       "6  R_99  R_99 : sR_99 to R_99 (22.07%)\n",
       "7  R_88  R_88 : sR_88 to R_88 (99.71%)\n",
       "8   R_0     R_0 : sR_0 to R_0 (99.96%)"
      ]
     },
     "metadata": {},
     "output_type": "display_data"
    }
   ],
   "source": [
    "df2 = pd.DataFrame()\n",
    "df2 = pd.read_csv(dirData + inputRateCSV)\n",
    "display(df2)"
   ]
  },
  {
   "cell_type": "markdown",
   "metadata": {},
   "source": [
    "## Create nodes.\n",
    "Create the nodes data by conbining the header and record."
   ]
  },
  {
   "cell_type": "code",
   "execution_count": 15,
   "metadata": {},
   "outputs": [
    {
     "data": {
      "text/plain": [
       "[{'id': 'R_1', 'title': 'R_1 : sR_1 to R_1 (47.31%)'},\n",
       " {'id': 'R_2', 'title': 'R_2 : sR_2 to R_2 (81.63%)'},\n",
       " {'id': 'R_3', 'title': 'R_3 : sR_3 to R_3 (2.55%)'},\n",
       " {'id': 'R_4', 'title': 'R_4 : sR_4 to R_4 (18.46%)'},\n",
       " {'id': 'R_5', 'title': 'R_5 : sR_5 to R_5 (33.14%)'},\n",
       " {'id': 'R_6', 'title': 'R_6 : sR_6 to R_6 (32.24%)'},\n",
       " {'id': 'R_99', 'title': 'R_99 : sR_99 to R_99 (22.07%)'},\n",
       " {'id': 'R_88', 'title': 'R_88 : sR_88 to R_88 (99.71%)'},\n",
       " {'id': 'R_0', 'title': 'R_0 : sR_0 to R_0 (99.96%)'}]"
      ]
     },
     "metadata": {},
     "output_type": "display_data"
    },
    {
     "data": {
      "application/vnd.jupyter.widget-view+json": {
       "model_id": "8c62ae82866241d699529fda77d7fb6b",
       "version_major": 2,
       "version_minor": 0
      },
      "text/plain": [
       "SankeyWidget(layout=Layout(height='600', width='800'), links=[{'source': 'sR_1', 'target': 'R_0', 'value': 443…"
      ]
     },
     "metadata": {},
     "output_type": "display_data"
    }
   ],
   "source": [
    "nodes = []\n",
    "for index, row in df2.iterrows():\n",
    "    node = dict(zip(df2.columns, row))\n",
    "    nodes.append(node)\n",
    "\n",
    "display(nodes)\n",
    "sankey(links=links, nodes=nodes)"
   ]
  },
  {
   "cell_type": "markdown",
   "metadata": {},
   "source": [
    "## Set groups and show that names."
   ]
  },
  {
   "cell_type": "code",
   "execution_count": 10,
   "metadata": {
    "scrolled": false
   },
   "outputs": [
    {
     "data": {
      "application/vnd.jupyter.widget-view+json": {
       "model_id": "73db3a37cf7346ffb80b6c7ec259d027",
       "version_major": 2,
       "version_minor": 0
      },
      "text/plain": [
       "SankeyWidget(groups=[{'id': 'G1', 'title': '1st rating by AI', 'nodes': ['sR_0', 'sR_1', 'sR_2', 'sR_3', 'sR_4…"
      ]
     },
     "metadata": {},
     "output_type": "display_data"
    }
   ],
   "source": [
    "groups = [\n",
    "    {'id': 'G1', 'title': '1st rating by AI', 'nodes': ['sR_0', 'sR_1', 'sR_2', 'sR_3', 'sR_4', 'sR_5', 'sR_6', 'sR_7', 'sR_88', 'sR_99']},\n",
    "    {'id': 'G2', 'title': 'Result', 'nodes': ['R_0', 'R_1', 'R_2', 'R_3', 'R_4', 'R_5', 'R_6', 'R_7', 'R_88', 'R_99']},\n",
    "]\n",
    "s = sankey(links=links, nodes=nodes, groups=groups, margin_top=100)\n",
    "s"
   ]
  },
  {
   "cell_type": "markdown",
   "metadata": {},
   "source": [
    "## Outoput the diagram as a SVG file."
   ]
  },
  {
   "cell_type": "code",
   "execution_count": 11,
   "metadata": {},
   "outputs": [],
   "source": [
    "s.save_svg(dirData + outputSVG)"
   ]
  },
  {
   "cell_type": "markdown",
   "metadata": {},
   "source": [
    "#### Output the diagram as a PNG file."
   ]
  },
  {
   "cell_type": "code",
   "execution_count": 20,
   "metadata": {},
   "outputs": [],
   "source": [
    "s.save_png(dirData + outputPNG)"
   ]
  },
  {
   "cell_type": "markdown",
   "metadata": {},
   "source": [
    "#### The PNG image quality created the method above was not good. Convert SVG to PDF as a trial."
   ]
  },
  {
   "cell_type": "code",
   "execution_count": 26,
   "metadata": {},
   "outputs": [],
   "source": [
    "import cairosvg\n",
    "cairosvg.svg2pdf(url= dirData + outputSVG, write_to= dirData + outputPDF)"
   ]
  },
  {
   "cell_type": "markdown",
   "metadata": {},
   "source": [
    "#### Convert PDF to PNG as a trial."
   ]
  },
  {
   "cell_type": "code",
   "execution_count": 27,
   "metadata": {},
   "outputs": [],
   "source": [
    "import os\n",
    "from pdf2image import convert_from_path\n",
    "\n",
    "pdf = dirData + outputPDF\n",
    "basename = os.path.basename(pdf)\n",
    "basenameWoExt = os.path.splitext(basename)[0]\n",
    "\n",
    "if os.path.exists(pdf):\n",
    "    pages = convert_from_path(pdf)\n",
    "    imgPath = dirData + outputPNG\n",
    "    pages[0].save(imgPath, 'png')"
   ]
  }
 ],
 "metadata": {
  "kernelspec": {
   "display_name": "Python 3",
   "language": "python",
   "name": "python3"
  },
  "language_info": {
   "codemirror_mode": {
    "name": "ipython",
    "version": 3
   },
   "file_extension": ".py",
   "mimetype": "text/x-python",
   "name": "python",
   "nbconvert_exporter": "python",
   "pygments_lexer": "ipython3",
   "version": "3.7.3"
  }
 },
 "nbformat": 4,
 "nbformat_minor": 2
}
